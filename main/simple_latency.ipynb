{
 "cells": [
  {
   "cell_type": "code",
   "execution_count": 1,
   "id": "f8a8ac12-c455-4f00-bb05-3c7bc4dfd30a",
   "metadata": {
    "tags": []
   },
   "outputs": [],
   "source": [
    "import pandas as pd\n",
    "\n",
    "from natsort import natsorted\n",
    "from plotnine import *  # ggplot stuff\n",
    "\n",
    "from lib.analysis import latency_bound_ats, latency_bound_sp\n",
    "from lib.stream import Stream\n",
    "from lib.topology import Topology, Switch, Host"
   ]
  },
  {
   "cell_type": "code",
   "execution_count": 2,
   "id": "78943a74-369e-4133-b867-a666eda3deee",
   "metadata": {},
   "outputs": [],
   "source": [
    "PRIOS = (7, 6, 5, 4)"
   ]
  },
  {
   "cell_type": "code",
   "execution_count": 3,
   "id": "c8e28c39-aa9a-4c6b-a492-2b511ac2260b",
   "metadata": {},
   "outputs": [],
   "source": [
    "topo = Topology()\n",
    "switches = [topo.add_node(Switch(\"sw1\"))]\n",
    "for i in range(2, 11):\n",
    "    switches.append(topo.create_and_add_neigh(switches[-1], Switch(\"sw%d\" % i), 1e9))\n",
    "talker = topo.create_and_add_neigh(switches[0], Host(\"talker\"), 1e9)\n",
    "listener = topo.create_and_add_neigh(switches[-1], Host(\"listener\"), 1e9)"
   ]
  },
  {
   "cell_type": "code",
   "execution_count": 4,
   "id": "af261b80-dc22-4476-8a21-2ce169edeec0",
   "metadata": {},
   "outputs": [
    {
     "data": {
      "text/plain": [
       "{'sw1': sw1,\n",
       " 'sw2': sw2,\n",
       " 'sw3': sw3,\n",
       " 'sw4': sw4,\n",
       " 'sw5': sw5,\n",
       " 'sw6': sw6,\n",
       " 'sw7': sw7,\n",
       " 'sw8': sw8,\n",
       " 'sw9': sw9,\n",
       " 'sw10': sw10,\n",
       " 'talker': talker,\n",
       " 'listener': listener}"
      ]
     },
     "execution_count": 4,
     "metadata": {},
     "output_type": "execute_result"
    }
   ],
   "source": [
    "topo.nodes"
   ]
  },
  {
   "cell_type": "code",
   "execution_count": 5,
   "id": "c404e99d-f505-4f37-a439-bdb6e77baa73",
   "metadata": {},
   "outputs": [
    {
     "data": {
      "text/plain": [
       "{'sw1-sw2': sw1-sw2,\n",
       " 'sw2-sw3': sw2-sw3,\n",
       " 'sw3-sw4': sw3-sw4,\n",
       " 'sw4-sw5': sw4-sw5,\n",
       " 'sw5-sw6': sw5-sw6,\n",
       " 'sw6-sw7': sw6-sw7,\n",
       " 'sw7-sw8': sw7-sw8,\n",
       " 'sw8-sw9': sw8-sw9,\n",
       " 'sw10-sw9': sw10-sw9,\n",
       " 'sw1-talker': sw1-talker,\n",
       " 'listener-sw10': listener-sw10}"
      ]
     },
     "execution_count": 5,
     "metadata": {},
     "output_type": "execute_result"
    }
   ],
   "source": [
    "topo.links"
   ]
  },
  {
   "cell_type": "code",
   "execution_count": 6,
   "id": "db4473e0-92e3-445d-8aac-eb6f4f95e0ae",
   "metadata": {},
   "outputs": [],
   "source": [
    "stream = Stream(label = \"stream1\",\n",
    "                path = topo.shortest_path(talker, listener),\n",
    "                priority = 7,\n",
    "                rate = 5e6,  # 5 Mbits/s\n",
    "                burst = 250*8,  # bits\n",
    "                minFrameSize = 100*8,  # bits\n",
    "                maxFrameSize = 500*8)  # bits\n",
    "topo.add_stream(stream)"
   ]
  },
  {
   "cell_type": "code",
   "execution_count": 7,
   "id": "6859053e-370a-4fb6-be21-dc3a6badb1f2",
   "metadata": {},
   "outputs": [
    {
     "data": {
      "text/plain": [
       "{'talker-sw1': {0: <lib.stream.Stream at 0x1adbada07c0>},\n",
       " 'sw1-sw2': {0: <lib.stream.Stream at 0x1adbada07c0>},\n",
       " 'sw2-sw3': {0: <lib.stream.Stream at 0x1adbada07c0>},\n",
       " 'sw3-sw4': {0: <lib.stream.Stream at 0x1adbada07c0>},\n",
       " 'sw4-sw5': {0: <lib.stream.Stream at 0x1adbada07c0>},\n",
       " 'sw5-sw6': {0: <lib.stream.Stream at 0x1adbada07c0>},\n",
       " 'sw6-sw7': {0: <lib.stream.Stream at 0x1adbada07c0>},\n",
       " 'sw7-sw8': {0: <lib.stream.Stream at 0x1adbada07c0>},\n",
       " 'sw8-sw9': {0: <lib.stream.Stream at 0x1adbada07c0>},\n",
       " 'sw9-sw10': {0: <lib.stream.Stream at 0x1adbada07c0>},\n",
       " 'sw10-listener': {0: <lib.stream.Stream at 0x1adbada07c0>}}"
      ]
     },
     "execution_count": 7,
     "metadata": {},
     "output_type": "execute_result"
    }
   ],
   "source": [
    "topo.streams_per_link"
   ]
  },
  {
   "cell_type": "code",
   "execution_count": 8,
   "id": "bcf9d303-f4ac-4f07-bde7-18b1c3538e1e",
   "metadata": {},
   "outputs": [],
   "source": [
    "per_hop_guarantees = {7: 150e3,\n",
    "                      6: 500e3,\n",
    "                      5: 2e6,\n",
    "                      4: 10e6}\n",
    "topo.update_guarantees_all_links(per_hop_guarantees)  # this must be done before computing latency"
   ]
  },
  {
   "cell_type": "code",
   "execution_count": 9,
   "id": "f9e1004b-3200-49c6-8cd8-535aa393c1f4",
   "metadata": {},
   "outputs": [
    {
     "data": {
      "text/plain": [
       "{'sw1-sw2': {7: 150000.0, 6: 500000.0, 5: 2000000.0, 4: 10000000.0},\n",
       " 'sw2-sw1': {7: 150000.0, 6: 500000.0, 5: 2000000.0, 4: 10000000.0},\n",
       " 'sw2-sw3': {7: 150000.0, 6: 500000.0, 5: 2000000.0, 4: 10000000.0},\n",
       " 'sw3-sw2': {7: 150000.0, 6: 500000.0, 5: 2000000.0, 4: 10000000.0},\n",
       " 'sw3-sw4': {7: 150000.0, 6: 500000.0, 5: 2000000.0, 4: 10000000.0},\n",
       " 'sw4-sw3': {7: 150000.0, 6: 500000.0, 5: 2000000.0, 4: 10000000.0},\n",
       " 'sw4-sw5': {7: 150000.0, 6: 500000.0, 5: 2000000.0, 4: 10000000.0},\n",
       " 'sw5-sw4': {7: 150000.0, 6: 500000.0, 5: 2000000.0, 4: 10000000.0},\n",
       " 'sw5-sw6': {7: 150000.0, 6: 500000.0, 5: 2000000.0, 4: 10000000.0},\n",
       " 'sw6-sw5': {7: 150000.0, 6: 500000.0, 5: 2000000.0, 4: 10000000.0},\n",
       " 'sw6-sw7': {7: 150000.0, 6: 500000.0, 5: 2000000.0, 4: 10000000.0},\n",
       " 'sw7-sw6': {7: 150000.0, 6: 500000.0, 5: 2000000.0, 4: 10000000.0},\n",
       " 'sw7-sw8': {7: 150000.0, 6: 500000.0, 5: 2000000.0, 4: 10000000.0},\n",
       " 'sw8-sw7': {7: 150000.0, 6: 500000.0, 5: 2000000.0, 4: 10000000.0},\n",
       " 'sw8-sw9': {7: 150000.0, 6: 500000.0, 5: 2000000.0, 4: 10000000.0},\n",
       " 'sw9-sw8': {7: 150000.0, 6: 500000.0, 5: 2000000.0, 4: 10000000.0},\n",
       " 'sw10-sw9': {7: 150000.0, 6: 500000.0, 5: 2000000.0, 4: 10000000.0},\n",
       " 'sw9-sw10': {7: 150000.0, 6: 500000.0, 5: 2000000.0, 4: 10000000.0},\n",
       " 'sw1-talker': {7: 150000.0, 6: 500000.0, 5: 2000000.0, 4: 10000000.0},\n",
       " 'talker-sw1': {7: 150000.0, 6: 500000.0, 5: 2000000.0, 4: 10000000.0},\n",
       " 'listener-sw10': {7: 150000.0, 6: 500000.0, 5: 2000000.0, 4: 10000000.0},\n",
       " 'sw10-listener': {7: 150000.0, 6: 500000.0, 5: 2000000.0, 4: 10000000.0}}"
      ]
     },
     "execution_count": 9,
     "metadata": {},
     "output_type": "execute_result"
    }
   ],
   "source": [
    "topo.per_hop_guarantees"
   ]
  },
  {
   "cell_type": "code",
   "execution_count": 10,
   "id": "979cc70a-8805-406e-a9fe-63b7388c4a51",
   "metadata": {},
   "outputs": [
    {
     "name": "stdout",
     "output_type": "stream",
     "text": [
      "Prio 7 link 'sw1-sw2' \t   SP latency: 14.3 µs\t   ATS latency: 14.3 µs\n",
      "Prio 7 link 'sw2-sw3' \t   SP latency: 14.3 µs\t   ATS latency: 14.3 µs\n",
      "Prio 7 link 'sw3-sw4' \t   SP latency: 16.3 µs\t   ATS latency: 14.3 µs\n",
      "Prio 7 link 'sw4-sw5' \t   SP latency: 16.3 µs\t   ATS latency: 14.3 µs\n",
      "Prio 7 link 'sw5-sw6' \t   SP latency: 16.3 µs\t   ATS latency: 14.3 µs\n",
      "Prio 7 link 'sw6-sw7' \t   SP latency: 18.3 µs\t   ATS latency: 14.3 µs\n",
      "Prio 7 link 'sw7-sw8' \t   SP latency: 18.3 µs\t   ATS latency: 14.3 µs\n",
      "Prio 7 link 'sw8-sw9' \t   SP latency: 18.3 µs\t   ATS latency: 14.3 µs\n",
      "Prio 7 link 'sw9-sw10' \t   SP latency: 20.3 µs\t   ATS latency: 14.3 µs\n"
     ]
    }
   ],
   "source": [
    "for i in range(len(switches) - 1):\n",
    "    linkname = \"%s-%s\" % (switches[i].name, switches[i+1].name)\n",
    "    print(\"Prio 7 link '%s' \\t   SP latency: %.1f µs\" % (linkname, latency_bound_sp(topo, linkname, 7) / 1e3), end=\"\\t   \")\n",
    "    print(\"ATS latency: %.1f µs\" % (latency_bound_ats(topo, linkname, 7) / 1e3))"
   ]
  },
  {
   "cell_type": "code",
   "execution_count": 11,
   "id": "e5cbe863-be67-4d99-912e-20d3aa0e0b86",
   "metadata": {},
   "outputs": [],
   "source": [
    "# Load all delays into a data frame\n",
    "data = []\n",
    "for link in topo.get_all_links_directed():\n",
    "    for prio in PRIOS:\n",
    "        data.append([link, prio, \"SP\", latency_bound_sp(topo, link, prio)])\n",
    "        data.append([link, prio, \"ATS\", latency_bound_ats(topo, link, prio)])\n",
    "df = pd.DataFrame(data, columns=[\"link\", \"priority\", \"type\", \"latency\"])"
   ]
  },
  {
   "cell_type": "code",
   "execution_count": 12,
   "id": "a3b7f3a7-99ce-4b06-91ab-5763bb98f5f3",
   "metadata": {},
   "outputs": [
    {
     "data": {
      "text/html": [
       "<div>\n",
       "<style scoped>\n",
       "    .dataframe tbody tr th:only-of-type {\n",
       "        vertical-align: middle;\n",
       "    }\n",
       "\n",
       "    .dataframe tbody tr th {\n",
       "        vertical-align: top;\n",
       "    }\n",
       "\n",
       "    .dataframe thead th {\n",
       "        text-align: right;\n",
       "    }\n",
       "</style>\n",
       "<table border=\"1\" class=\"dataframe\">\n",
       "  <thead>\n",
       "    <tr style=\"text-align: right;\">\n",
       "      <th></th>\n",
       "      <th>link</th>\n",
       "      <th>priority</th>\n",
       "      <th>type</th>\n",
       "      <th>latency</th>\n",
       "    </tr>\n",
       "  </thead>\n",
       "  <tbody>\n",
       "    <tr>\n",
       "      <th>0</th>\n",
       "      <td>sw1-sw2</td>\n",
       "      <td>7</td>\n",
       "      <td>SP</td>\n",
       "      <td>14336</td>\n",
       "    </tr>\n",
       "    <tr>\n",
       "      <th>1</th>\n",
       "      <td>sw1-sw2</td>\n",
       "      <td>7</td>\n",
       "      <td>ATS</td>\n",
       "      <td>14336</td>\n",
       "    </tr>\n",
       "    <tr>\n",
       "      <th>2</th>\n",
       "      <td>sw1-sw2</td>\n",
       "      <td>6</td>\n",
       "      <td>SP</td>\n",
       "      <td>0</td>\n",
       "    </tr>\n",
       "    <tr>\n",
       "      <th>3</th>\n",
       "      <td>sw1-sw2</td>\n",
       "      <td>6</td>\n",
       "      <td>ATS</td>\n",
       "      <td>0</td>\n",
       "    </tr>\n",
       "    <tr>\n",
       "      <th>4</th>\n",
       "      <td>sw1-sw2</td>\n",
       "      <td>5</td>\n",
       "      <td>SP</td>\n",
       "      <td>0</td>\n",
       "    </tr>\n",
       "    <tr>\n",
       "      <th>...</th>\n",
       "      <td>...</td>\n",
       "      <td>...</td>\n",
       "      <td>...</td>\n",
       "      <td>...</td>\n",
       "    </tr>\n",
       "    <tr>\n",
       "      <th>171</th>\n",
       "      <td>sw10-listener</td>\n",
       "      <td>6</td>\n",
       "      <td>ATS</td>\n",
       "      <td>0</td>\n",
       "    </tr>\n",
       "    <tr>\n",
       "      <th>172</th>\n",
       "      <td>sw10-listener</td>\n",
       "      <td>5</td>\n",
       "      <td>SP</td>\n",
       "      <td>0</td>\n",
       "    </tr>\n",
       "    <tr>\n",
       "      <th>173</th>\n",
       "      <td>sw10-listener</td>\n",
       "      <td>5</td>\n",
       "      <td>ATS</td>\n",
       "      <td>0</td>\n",
       "    </tr>\n",
       "    <tr>\n",
       "      <th>174</th>\n",
       "      <td>sw10-listener</td>\n",
       "      <td>4</td>\n",
       "      <td>SP</td>\n",
       "      <td>0</td>\n",
       "    </tr>\n",
       "    <tr>\n",
       "      <th>175</th>\n",
       "      <td>sw10-listener</td>\n",
       "      <td>4</td>\n",
       "      <td>ATS</td>\n",
       "      <td>0</td>\n",
       "    </tr>\n",
       "  </tbody>\n",
       "</table>\n",
       "<p>176 rows × 4 columns</p>\n",
       "</div>"
      ],
      "text/plain": [
       "              link  priority type  latency\n",
       "0          sw1-sw2         7   SP    14336\n",
       "1          sw1-sw2         7  ATS    14336\n",
       "2          sw1-sw2         6   SP        0\n",
       "3          sw1-sw2         6  ATS        0\n",
       "4          sw1-sw2         5   SP        0\n",
       "..             ...       ...  ...      ...\n",
       "171  sw10-listener         6  ATS        0\n",
       "172  sw10-listener         5   SP        0\n",
       "173  sw10-listener         5  ATS        0\n",
       "174  sw10-listener         4   SP        0\n",
       "175  sw10-listener         4  ATS        0\n",
       "\n",
       "[176 rows x 4 columns]"
      ]
     },
     "execution_count": 12,
     "metadata": {},
     "output_type": "execute_result"
    }
   ],
   "source": [
    "df"
   ]
  },
  {
   "cell_type": "code",
   "execution_count": 13,
   "id": "0c569e94-2d29-47bc-90b5-9192459bbfec",
   "metadata": {},
   "outputs": [],
   "source": [
    "# Remove links from end devices and those without delay\n",
    "df = df.query(\"link.str.startswith('sw') and latency > 0\", engine=\"python\")\n",
    "\n",
    "# Sort link names numerically (instead of alphabetically)\n",
    "linknames_sorted = natsorted(df[\"link\"].unique())\n",
    "df = df.assign(link = pd.Categorical(df[\"link\"], categories=linknames_sorted, ordered=True))"
   ]
  },
  {
   "cell_type": "code",
   "execution_count": 14,
   "id": "b0599ff5-5475-4a1f-9563-42e1703e377b",
   "metadata": {},
   "outputs": [
    {
     "data": {
      "text/html": [
       "<div>\n",
       "<style scoped>\n",
       "    .dataframe tbody tr th:only-of-type {\n",
       "        vertical-align: middle;\n",
       "    }\n",
       "\n",
       "    .dataframe tbody tr th {\n",
       "        vertical-align: top;\n",
       "    }\n",
       "\n",
       "    .dataframe thead th {\n",
       "        text-align: right;\n",
       "    }\n",
       "</style>\n",
       "<table border=\"1\" class=\"dataframe\">\n",
       "  <thead>\n",
       "    <tr style=\"text-align: right;\">\n",
       "      <th></th>\n",
       "      <th>link</th>\n",
       "      <th>priority</th>\n",
       "      <th>type</th>\n",
       "      <th>latency</th>\n",
       "    </tr>\n",
       "  </thead>\n",
       "  <tbody>\n",
       "    <tr>\n",
       "      <th>0</th>\n",
       "      <td>sw1-sw2</td>\n",
       "      <td>7</td>\n",
       "      <td>SP</td>\n",
       "      <td>14336</td>\n",
       "    </tr>\n",
       "    <tr>\n",
       "      <th>1</th>\n",
       "      <td>sw1-sw2</td>\n",
       "      <td>7</td>\n",
       "      <td>ATS</td>\n",
       "      <td>14336</td>\n",
       "    </tr>\n",
       "    <tr>\n",
       "      <th>16</th>\n",
       "      <td>sw2-sw3</td>\n",
       "      <td>7</td>\n",
       "      <td>SP</td>\n",
       "      <td>14336</td>\n",
       "    </tr>\n",
       "    <tr>\n",
       "      <th>17</th>\n",
       "      <td>sw2-sw3</td>\n",
       "      <td>7</td>\n",
       "      <td>ATS</td>\n",
       "      <td>14336</td>\n",
       "    </tr>\n",
       "    <tr>\n",
       "      <th>32</th>\n",
       "      <td>sw3-sw4</td>\n",
       "      <td>7</td>\n",
       "      <td>SP</td>\n",
       "      <td>16336</td>\n",
       "    </tr>\n",
       "    <tr>\n",
       "      <th>33</th>\n",
       "      <td>sw3-sw4</td>\n",
       "      <td>7</td>\n",
       "      <td>ATS</td>\n",
       "      <td>14336</td>\n",
       "    </tr>\n",
       "    <tr>\n",
       "      <th>48</th>\n",
       "      <td>sw4-sw5</td>\n",
       "      <td>7</td>\n",
       "      <td>SP</td>\n",
       "      <td>16336</td>\n",
       "    </tr>\n",
       "    <tr>\n",
       "      <th>49</th>\n",
       "      <td>sw4-sw5</td>\n",
       "      <td>7</td>\n",
       "      <td>ATS</td>\n",
       "      <td>14336</td>\n",
       "    </tr>\n",
       "    <tr>\n",
       "      <th>64</th>\n",
       "      <td>sw5-sw6</td>\n",
       "      <td>7</td>\n",
       "      <td>SP</td>\n",
       "      <td>16336</td>\n",
       "    </tr>\n",
       "    <tr>\n",
       "      <th>65</th>\n",
       "      <td>sw5-sw6</td>\n",
       "      <td>7</td>\n",
       "      <td>ATS</td>\n",
       "      <td>14336</td>\n",
       "    </tr>\n",
       "    <tr>\n",
       "      <th>80</th>\n",
       "      <td>sw6-sw7</td>\n",
       "      <td>7</td>\n",
       "      <td>SP</td>\n",
       "      <td>18336</td>\n",
       "    </tr>\n",
       "    <tr>\n",
       "      <th>81</th>\n",
       "      <td>sw6-sw7</td>\n",
       "      <td>7</td>\n",
       "      <td>ATS</td>\n",
       "      <td>14336</td>\n",
       "    </tr>\n",
       "    <tr>\n",
       "      <th>96</th>\n",
       "      <td>sw7-sw8</td>\n",
       "      <td>7</td>\n",
       "      <td>SP</td>\n",
       "      <td>18336</td>\n",
       "    </tr>\n",
       "    <tr>\n",
       "      <th>97</th>\n",
       "      <td>sw7-sw8</td>\n",
       "      <td>7</td>\n",
       "      <td>ATS</td>\n",
       "      <td>14336</td>\n",
       "    </tr>\n",
       "    <tr>\n",
       "      <th>112</th>\n",
       "      <td>sw8-sw9</td>\n",
       "      <td>7</td>\n",
       "      <td>SP</td>\n",
       "      <td>18336</td>\n",
       "    </tr>\n",
       "    <tr>\n",
       "      <th>113</th>\n",
       "      <td>sw8-sw9</td>\n",
       "      <td>7</td>\n",
       "      <td>ATS</td>\n",
       "      <td>14336</td>\n",
       "    </tr>\n",
       "    <tr>\n",
       "      <th>136</th>\n",
       "      <td>sw9-sw10</td>\n",
       "      <td>7</td>\n",
       "      <td>SP</td>\n",
       "      <td>20336</td>\n",
       "    </tr>\n",
       "    <tr>\n",
       "      <th>137</th>\n",
       "      <td>sw9-sw10</td>\n",
       "      <td>7</td>\n",
       "      <td>ATS</td>\n",
       "      <td>14336</td>\n",
       "    </tr>\n",
       "    <tr>\n",
       "      <th>168</th>\n",
       "      <td>sw10-listener</td>\n",
       "      <td>7</td>\n",
       "      <td>SP</td>\n",
       "      <td>20336</td>\n",
       "    </tr>\n",
       "    <tr>\n",
       "      <th>169</th>\n",
       "      <td>sw10-listener</td>\n",
       "      <td>7</td>\n",
       "      <td>ATS</td>\n",
       "      <td>14336</td>\n",
       "    </tr>\n",
       "  </tbody>\n",
       "</table>\n",
       "</div>"
      ],
      "text/plain": [
       "              link  priority type  latency\n",
       "0          sw1-sw2         7   SP    14336\n",
       "1          sw1-sw2         7  ATS    14336\n",
       "16         sw2-sw3         7   SP    14336\n",
       "17         sw2-sw3         7  ATS    14336\n",
       "32         sw3-sw4         7   SP    16336\n",
       "33         sw3-sw4         7  ATS    14336\n",
       "48         sw4-sw5         7   SP    16336\n",
       "49         sw4-sw5         7  ATS    14336\n",
       "64         sw5-sw6         7   SP    16336\n",
       "65         sw5-sw6         7  ATS    14336\n",
       "80         sw6-sw7         7   SP    18336\n",
       "81         sw6-sw7         7  ATS    14336\n",
       "96         sw7-sw8         7   SP    18336\n",
       "97         sw7-sw8         7  ATS    14336\n",
       "112        sw8-sw9         7   SP    18336\n",
       "113        sw8-sw9         7  ATS    14336\n",
       "136       sw9-sw10         7   SP    20336\n",
       "137       sw9-sw10         7  ATS    14336\n",
       "168  sw10-listener         7   SP    20336\n",
       "169  sw10-listener         7  ATS    14336"
      ]
     },
     "execution_count": 14,
     "metadata": {},
     "output_type": "execute_result"
    }
   ],
   "source": [
    "df"
   ]
  },
  {
   "cell_type": "code",
   "execution_count": 15,
   "id": "ac959e15-78a5-4470-aeae-1df1bba33914",
   "metadata": {},
   "outputs": [
    {
     "data": {
      "image/png": "[encoded data removed]",
      "text/plain": [
       "<Figure size 640x480 with 1 Axes>"
      ]
     },
     "metadata": {},
     "output_type": "display_data"
    },
    {
     "data": {
      "text/plain": [
       "<ggplot: (115354778597)>"
      ]
     },
     "execution_count": 15,
     "metadata": {},
     "output_type": "execute_result"
    }
   ],
   "source": [
    "# Plot some information\n",
    "plot = (ggplot(df)\n",
    "        + aes(x=\"link\", y=\"latency / 1e3\", fill=\"type\")\n",
    "        + geom_bar(stat=\"identity\", position=\"dodge\")\n",
    "        + labs(x=\"link name\", y=\"max latency in µs\")\n",
    "        + theme(axis_text_x = element_text(angle=30, hjust=1))\n",
    "        #+ geom_hline(yintercept = per_hop_guarantees[7] / 1e3)\n",
    ")\n",
    "plot"
   ]
  },
  {
   "cell_type": "code",
   "execution_count": 16,
   "id": "cd39ffbf-ece3-44a8-a992-a46958686139",
   "metadata": {},
   "outputs": [
    {
     "data": {
      "text/html": [
       "<div>\n",
       "<style scoped>\n",
       "    .dataframe tbody tr th:only-of-type {\n",
       "        vertical-align: middle;\n",
       "    }\n",
       "\n",
       "    .dataframe tbody tr th {\n",
       "        vertical-align: top;\n",
       "    }\n",
       "\n",
       "    .dataframe thead th {\n",
       "        text-align: right;\n",
       "    }\n",
       "</style>\n",
       "<table border=\"1\" class=\"dataframe\">\n",
       "  <thead>\n",
       "    <tr style=\"text-align: right;\">\n",
       "      <th></th>\n",
       "      <th>frame</th>\n",
       "      <th>hop</th>\n",
       "      <th>link</th>\n",
       "      <th>type</th>\n",
       "      <th>latency</th>\n",
       "    </tr>\n",
       "  </thead>\n",
       "  <tbody>\n",
       "    <tr>\n",
       "      <th>0</th>\n",
       "      <td>1</td>\n",
       "      <td>1</td>\n",
       "      <td>talker-sw1</td>\n",
       "      <td>accMinLatency</td>\n",
       "      <td>800.0</td>\n",
       "    </tr>\n",
       "    <tr>\n",
       "      <th>1</th>\n",
       "      <td>1</td>\n",
       "      <td>1</td>\n",
       "      <td>talker-sw1</td>\n",
       "      <td>accMaxLatency</td>\n",
       "      <td>4000.0</td>\n",
       "    </tr>\n",
       "    <tr>\n",
       "      <th>2</th>\n",
       "      <td>1</td>\n",
       "      <td>2</td>\n",
       "      <td>sw1-sw2</td>\n",
       "      <td>accMinLatency</td>\n",
       "      <td>1600.0</td>\n",
       "    </tr>\n",
       "    <tr>\n",
       "      <th>3</th>\n",
       "      <td>1</td>\n",
       "      <td>2</td>\n",
       "      <td>sw1-sw2</td>\n",
       "      <td>accMaxLatency</td>\n",
       "      <td>154000.0</td>\n",
       "    </tr>\n",
       "    <tr>\n",
       "      <th>4</th>\n",
       "      <td>1</td>\n",
       "      <td>3</td>\n",
       "      <td>sw2-sw3</td>\n",
       "      <td>accMinLatency</td>\n",
       "      <td>2400.0</td>\n",
       "    </tr>\n",
       "    <tr>\n",
       "      <th>...</th>\n",
       "      <td>...</td>\n",
       "      <td>...</td>\n",
       "      <td>...</td>\n",
       "      <td>...</td>\n",
       "      <td>...</td>\n",
       "    </tr>\n",
       "    <tr>\n",
       "      <th>127</th>\n",
       "      <td>6</td>\n",
       "      <td>9</td>\n",
       "      <td>sw8-sw9</td>\n",
       "      <td>accMaxLatency</td>\n",
       "      <td>3204000.0</td>\n",
       "    </tr>\n",
       "    <tr>\n",
       "      <th>128</th>\n",
       "      <td>6</td>\n",
       "      <td>10</td>\n",
       "      <td>sw9-sw10</td>\n",
       "      <td>accMinLatency</td>\n",
       "      <td>2008000.0</td>\n",
       "    </tr>\n",
       "    <tr>\n",
       "      <th>129</th>\n",
       "      <td>6</td>\n",
       "      <td>10</td>\n",
       "      <td>sw9-sw10</td>\n",
       "      <td>accMaxLatency</td>\n",
       "      <td>3354000.0</td>\n",
       "    </tr>\n",
       "    <tr>\n",
       "      <th>130</th>\n",
       "      <td>6</td>\n",
       "      <td>11</td>\n",
       "      <td>sw10-listener</td>\n",
       "      <td>accMinLatency</td>\n",
       "      <td>2008800.0</td>\n",
       "    </tr>\n",
       "    <tr>\n",
       "      <th>131</th>\n",
       "      <td>6</td>\n",
       "      <td>11</td>\n",
       "      <td>sw10-listener</td>\n",
       "      <td>accMaxLatency</td>\n",
       "      <td>3504000.0</td>\n",
       "    </tr>\n",
       "  </tbody>\n",
       "</table>\n",
       "<p>132 rows × 5 columns</p>\n",
       "</div>"
      ],
      "text/plain": [
       "    frame  hop           link           type    latency\n",
       "0       1    1     talker-sw1  accMinLatency      800.0\n",
       "1       1    1     talker-sw1  accMaxLatency     4000.0\n",
       "2       1    2        sw1-sw2  accMinLatency     1600.0\n",
       "3       1    2        sw1-sw2  accMaxLatency   154000.0\n",
       "4       1    3        sw2-sw3  accMinLatency     2400.0\n",
       "..    ...  ...            ...            ...        ...\n",
       "127     6    9        sw8-sw9  accMaxLatency  3204000.0\n",
       "128     6   10       sw9-sw10  accMinLatency  2008000.0\n",
       "129     6   10       sw9-sw10  accMaxLatency  3354000.0\n",
       "130     6   11  sw10-listener  accMinLatency  2008800.0\n",
       "131     6   11  sw10-listener  accMaxLatency  3504000.0\n",
       "\n",
       "[132 rows x 5 columns]"
      ]
     },
     "execution_count": 16,
     "metadata": {},
     "output_type": "execute_result"
    }
   ],
   "source": [
    "# Plot residence times of stream\n",
    "residence_times = stream.get_residence_time_df(frame_count=6)\n",
    "residence_times"
   ]
  },
  {
   "cell_type": "code",
   "execution_count": 17,
   "id": "9204909b-49f9-4323-a12a-12c98643fe49",
   "metadata": {},
   "outputs": [
    {
     "data": {
      "image/png": "[encoded data removed]",
      "text/plain": [
       "<Figure size 640x480 with 1 Axes>"
      ]
     },
     "metadata": {},
     "output_type": "display_data"
    },
    {
     "name": "stdout",
     "output_type": "stream",
     "text": [
      "\n"
     ]
    }
   ],
   "source": [
    "plot = (ggplot(residence_times)\n",
    "        + aes(x=\"latency / 1e3\", y=\"hop\", color=\"frame\", group=\"frame + type\")\n",
    "        + geom_line()\n",
    "        + labs(x=\"time [µs]\", y=\"hop\", color=\"frame\")\n",
    ")\n",
    "print(plot)"
   ]
  },
  {
   "cell_type": "code",
   "execution_count": 18,
   "id": "8d249aa2-2fae-4e76-bb90-9e7b2eb26cc0",
   "metadata": {},
   "outputs": [
    {
     "data": {
      "text/plain": [
       "5000000.0"
      ]
     },
     "execution_count": 18,
     "metadata": {},
     "output_type": "execute_result"
    }
   ],
   "source": [
    "stream.rate"
   ]
  },
  {
   "cell_type": "code",
   "execution_count": 19,
   "id": "f6a94573-4093-47dc-8177-cddb2c238e7b",
   "metadata": {},
   "outputs": [
    {
     "data": {
      "text/plain": [
       "400000.0"
      ]
     },
     "execution_count": 19,
     "metadata": {},
     "output_type": "execute_result"
    }
   ],
   "source": [
    "stream.burst / stream.rate * 1e9"
   ]
  },
  {
   "cell_type": "code",
   "execution_count": 20,
   "id": "98b34b3b-3074-498f-aa2b-2061e3efbdbc",
   "metadata": {},
   "outputs": [
    {
     "data": {
      "text/plain": [
       "{7: 150000.0, 6: 500000.0, 5: 2000000.0, 4: 10000000.0}"
      ]
     },
     "execution_count": 20,
     "metadata": {},
     "output_type": "execute_result"
    }
   ],
   "source": [
    "per_hop_guarantees"
   ]
  },
  {
   "cell_type": "code",
   "execution_count": 21,
   "id": "9b97ed4c-cd3e-4adb-8f4c-757d535fc33e",
   "metadata": {},
   "outputs": [],
   "source": [
    "stream2 = stream.clone()\n",
    "stream2.rate = 500e3  # 500 kbit/s\n",
    "stream2.priority = 6\n",
    "topo.add_stream(stream2)\n",
    "topo.update_guarantees_all_links(per_hop_guarantees)"
   ]
  },
  {
   "cell_type": "code",
   "execution_count": 22,
   "id": "62b3e76c-8f27-4a48-91e3-47d5132e2322",
   "metadata": {},
   "outputs": [
    {
     "data": {
      "text/plain": [
       "{'talker-sw1': 4000.0,\n",
       " 'sw1-sw2': 504000.0,\n",
       " 'sw2-sw3': 1004000.0,\n",
       " 'sw3-sw4': 1504000.0,\n",
       " 'sw4-sw5': 2004000.0,\n",
       " 'sw5-sw6': 2504000.0,\n",
       " 'sw6-sw7': 3004000.0,\n",
       " 'sw7-sw8': 3504000.0,\n",
       " 'sw8-sw9': 4004000.0,\n",
       " 'sw9-sw10': 4504000.0,\n",
       " 'sw10-listener': 5004000.0}"
      ]
     },
     "execution_count": 22,
     "metadata": {},
     "output_type": "execute_result"
    }
   ],
   "source": [
    "stream2.accMaxLatencies"
   ]
  },
  {
   "cell_type": "code",
   "execution_count": 23,
   "id": "f5ea599f-dccb-4b52-979c-f33a0fd7fe7b",
   "metadata": {},
   "outputs": [
    {
     "data": {
      "text/plain": [
       "4000000.0"
      ]
     },
     "execution_count": 23,
     "metadata": {},
     "output_type": "execute_result"
    }
   ],
   "source": [
    "stream2.burst / stream2.rate * 1e9"
   ]
  },
  {
   "cell_type": "code",
   "execution_count": 24,
   "id": "d8143d27-1cef-4764-896e-a503ac62b5e6",
   "metadata": {},
   "outputs": [
    {
     "data": {
      "image/png": "[encoded data removed]",
      "text/plain": [
       "<Figure size 640x480 with 1 Axes>"
      ]
     },
     "metadata": {},
     "output_type": "display_data"
    },
    {
     "name": "stdout",
     "output_type": "stream",
     "text": [
      "\n"
     ]
    }
   ],
   "source": [
    "residence_times2 = stream2.get_residence_time_df(frame_count=6)\n",
    "plot = (ggplot(residence_times2)\n",
    "        + aes(x=\"latency / 1e3\", y=\"hop\", color=\"frame\", group=\"frame + type\")\n",
    "        + geom_line()\n",
    "        + labs(x=\"time [µs]\", y=\"hop\", color=\"frame\")\n",
    ")\n",
    "print(plot)"
   ]
  },
  {
   "cell_type": "code",
   "execution_count": 25,
   "id": "c8500570-20f5-42bb-8895-b40c5bad5b90",
   "metadata": {},
   "outputs": [
    {
     "data": {
      "text/html": [
       "<div>\n",
       "<style scoped>\n",
       "    .dataframe tbody tr th:only-of-type {\n",
       "        vertical-align: middle;\n",
       "    }\n",
       "\n",
       "    .dataframe tbody tr th {\n",
       "        vertical-align: top;\n",
       "    }\n",
       "\n",
       "    .dataframe thead th {\n",
       "        text-align: right;\n",
       "    }\n",
       "</style>\n",
       "<table border=\"1\" class=\"dataframe\">\n",
       "  <thead>\n",
       "    <tr style=\"text-align: right;\">\n",
       "      <th></th>\n",
       "      <th>additional_streams</th>\n",
       "      <th>shaper</th>\n",
       "      <th>latency</th>\n",
       "    </tr>\n",
       "  </thead>\n",
       "  <tbody>\n",
       "    <tr>\n",
       "      <th>0</th>\n",
       "      <td>0</td>\n",
       "      <td>SP</td>\n",
       "      <td>18336</td>\n",
       "    </tr>\n",
       "    <tr>\n",
       "      <th>1</th>\n",
       "      <td>0</td>\n",
       "      <td>ATS</td>\n",
       "      <td>16415</td>\n",
       "    </tr>\n",
       "    <tr>\n",
       "      <th>2</th>\n",
       "      <td>1</td>\n",
       "      <td>SP</td>\n",
       "      <td>22336</td>\n",
       "    </tr>\n",
       "    <tr>\n",
       "      <th>3</th>\n",
       "      <td>1</td>\n",
       "      <td>ATS</td>\n",
       "      <td>18514</td>\n",
       "    </tr>\n",
       "    <tr>\n",
       "      <th>4</th>\n",
       "      <td>2</td>\n",
       "      <td>SP</td>\n",
       "      <td>26336</td>\n",
       "    </tr>\n",
       "    <tr>\n",
       "      <th>...</th>\n",
       "      <td>...</td>\n",
       "      <td>...</td>\n",
       "      <td>...</td>\n",
       "    </tr>\n",
       "    <tr>\n",
       "      <th>255</th>\n",
       "      <td>127</td>\n",
       "      <td>ATS</td>\n",
       "      <td>749512</td>\n",
       "    </tr>\n",
       "    <tr>\n",
       "      <th>256</th>\n",
       "      <td>128</td>\n",
       "      <td>SP</td>\n",
       "      <td>530336</td>\n",
       "    </tr>\n",
       "    <tr>\n",
       "      <th>257</th>\n",
       "      <td>128</td>\n",
       "      <td>ATS</td>\n",
       "      <td>765691</td>\n",
       "    </tr>\n",
       "    <tr>\n",
       "      <th>258</th>\n",
       "      <td>129</td>\n",
       "      <td>SP</td>\n",
       "      <td>534336</td>\n",
       "    </tr>\n",
       "    <tr>\n",
       "      <th>259</th>\n",
       "      <td>129</td>\n",
       "      <td>ATS</td>\n",
       "      <td>782332</td>\n",
       "    </tr>\n",
       "  </tbody>\n",
       "</table>\n",
       "<p>260 rows × 3 columns</p>\n",
       "</div>"
      ],
      "text/plain": [
       "     additional_streams shaper  latency\n",
       "0                     0     SP    18336\n",
       "1                     0    ATS    16415\n",
       "2                     1     SP    22336\n",
       "3                     1    ATS    18514\n",
       "4                     2     SP    26336\n",
       "..                  ...    ...      ...\n",
       "255                 127    ATS   749512\n",
       "256                 128     SP   530336\n",
       "257                 128    ATS   765691\n",
       "258                 129     SP   534336\n",
       "259                 129    ATS   782332\n",
       "\n",
       "[260 rows x 3 columns]"
      ]
     },
     "execution_count": 25,
     "metadata": {},
     "output_type": "execute_result"
    }
   ],
   "source": [
    "# Let's add some more streams and compare latency on Hop 1\n",
    "topo.remove_all_streams()\n",
    "topo.add_stream(stream2)  # stream2 had prio 6\n",
    "\n",
    "data = []\n",
    "for i in range(130):\n",
    "    streamx = stream.clone()  # stream had higher prio 7\n",
    "    topo.add_stream(streamx)\n",
    "    \n",
    "    data.append([i, \"SP\", latency_bound_sp(topo, \"sw1-sw2\", 6)])\n",
    "    data.append([i, \"ATS\", latency_bound_ats(topo, \"sw1-sw2\", 6)])\n",
    "    \n",
    "df2 = pd.DataFrame(data, columns=[\"additional_streams\", \"shaper\", \"latency\"])\n",
    "df2"
   ]
  },
  {
   "cell_type": "code",
   "execution_count": 26,
   "id": "0b96ddca-6fc5-4f13-81d2-ce8fde11f075",
   "metadata": {},
   "outputs": [
    {
     "data": {
      "image/png": "[encoded data removed]",
      "text/plain": [
       "<Figure size 640x480 with 1 Axes>"
      ]
     },
     "metadata": {},
     "output_type": "display_data"
    },
    {
     "data": {
      "text/plain": [
       "<ggplot: (115356963907)>"
      ]
     },
     "execution_count": 26,
     "metadata": {},
     "output_type": "execute_result"
    }
   ],
   "source": [
    "plot = (ggplot(df2)\n",
    "        + aes(x=\"additional_streams\", y=\"latency / 1e3\", color=\"shaper\")\n",
    "        + geom_line()\n",
    "        + labs(x=\"number of prio 7 streams\", y=\"max latency prio 6 [µs]\")\n",
    "        + geom_hline(yintercept = per_hop_guarantees[6] / 1e3)\n",
    ")\n",
    "plot"
   ]
  },
  {
   "cell_type": "code",
   "execution_count": null,
   "id": "71f1ef6b-c333-4731-b2f5-c9891d517c31",
   "metadata": {},
   "outputs": [],
   "source": []
  }
 ],
 "metadata": {
  "kernelspec": {
   "display_name": "Python 3",
   "language": "python",
   "name": "python3"
  },
  "language_info": {
   "codemirror_mode": {
    "name": "ipython",
    "version": 3
   },
   "file_extension": ".py",
   "mimetype": "text/x-python",
   "name": "python",
   "nbconvert_exporter": "python",
   "pygments_lexer": "ipython3",
   "version": "3.8.3"
  }
 },
 "nbformat": 4,
 "nbformat_minor": 5
}
